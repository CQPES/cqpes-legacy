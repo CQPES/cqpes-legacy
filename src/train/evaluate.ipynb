{
 "cells": [
  {
   "cell_type": "code",
   "execution_count": 1,
   "metadata": {},
   "outputs": [],
   "source": [
    "import os\n",
    "\n",
    "os.environ[\"TF_CPP_MIN_LOG_LEVEL\"] = \"2\"\n",
    "\n",
    "import sys\n",
    "\n",
    "sys.path.append(os.path.join(os.path.dirname(os.getcwd()), os.pardir))"
   ]
  },
  {
   "cell_type": "code",
   "execution_count": 2,
   "metadata": {},
   "outputs": [],
   "source": [
    "import glob\n",
    "import json\n",
    "\n",
    "import numpy as np\n",
    "import tensorflow as tf\n",
    "\n",
    "tf.keras.backend.set_floatx(\"float64\")\n",
    "tf.config.set_visible_devices([], \"GPU\")\n",
    "\n",
    "import levenberg_marquardt as lm"
   ]
  },
  {
   "cell_type": "code",
   "execution_count": 3,
   "metadata": {},
   "outputs": [],
   "source": [
    "def scale(t, t_min, t_max):\n",
    "    t_scaled = 2 * (t - t_min) / (t_max - t_min) - 1\n",
    "    np.nan_to_num(t_scaled, copy=False)\n",
    "    return t_scaled\n",
    "\n",
    "def inverse_scale(t_scaled, t_min, t_max):\n",
    "    t = (t_scaled + 1) * (t_max - t_min) / 2 + t_min\n",
    "    return t"
   ]
  },
  {
   "cell_type": "code",
   "execution_count": 4,
   "metadata": {},
   "outputs": [],
   "source": [
    "config_json = \"/home/jhli/CQPES-legacy/config/train.json\"\n",
    "workdir = \"/home/jhli/CQPES-legacy/model-2024-06-29 16:24:34.294319\""
   ]
  },
  {
   "cell_type": "code",
   "execution_count": 5,
   "metadata": {},
   "outputs": [
    {
     "data": {
      "text/plain": [
       "{'data': '/home/jhli/CQPES-legacy/data',\n",
       " 'network': {'layers': [20, 20], 'activation': 'tanh'},\n",
       " 'fit': {'lr': 0.5, 'epoch': 1000, 'batch_size': -1},\n",
       " 'lm': {'adaptive_scaling': True,\n",
       "  'fletcher': False,\n",
       "  'solve_method': 'solve',\n",
       "  'jacobian_max_num_rows': 500},\n",
       " 'split': [0.9, 0.05, 0.05],\n",
       " 'workdir': 'model'}"
      ]
     },
     "execution_count": 5,
     "metadata": {},
     "output_type": "execute_result"
    }
   ],
   "source": [
    "with open(config_json) as f:\n",
    "    config = json.load(f)\n",
    "\n",
    "config"
   ]
  },
  {
   "cell_type": "code",
   "execution_count": 6,
   "metadata": {},
   "outputs": [],
   "source": [
    "# load data\n",
    "X = np.load(os.path.join(config[\"data\"], \"X.npy\"))[:, 1:]\n",
    "y = np.load(os.path.join(config[\"data\"], \"y.npy\")).reshape((-1, 1))\n",
    "V = np.load(os.path.join(config[\"data\"], \"V.npy\")).reshape((-1, 1))\n",
    "\n",
    "V_min = np.load(os.path.join(config[\"data\"], \"V_min.npy\"))\n",
    "V_max = np.load(os.path.join(config[\"data\"], \"V_max.npy\"))"
   ]
  },
  {
   "cell_type": "code",
   "execution_count": 7,
   "metadata": {},
   "outputs": [],
   "source": [
    "# load train, valid, & test\n",
    "train_idx = np.loadtxt(os.path.join(workdir, \"train_idx.txt\"), dtype=np.int32)\n",
    "valid_idx = np.loadtxt(os.path.join(workdir, \"valid_idx.txt\"), dtype=np.int32)\n",
    "test_idx = np.loadtxt(os.path.join(workdir, \"test_idx.txt\"), dtype=np.int32)"
   ]
  },
  {
   "cell_type": "code",
   "execution_count": 8,
   "metadata": {},
   "outputs": [],
   "source": [
    "# build model\n",
    "model = tf.keras.Sequential()\n",
    "model.add(\n",
    "    tf.keras.Input(\n",
    "        shape=(len(X[0]),)\n",
    "    ),\n",
    ")\n",
    "\n",
    "for num_units in config[\"network\"][\"layers\"]:\n",
    "    model.add(\n",
    "        tf.keras.layers.Dense(\n",
    "            units=num_units,\n",
    "            activation=config[\"network\"][\"activation\"],\n",
    "        ),\n",
    "    )\n",
    "\n",
    "model.add(\n",
    "    tf.keras.layers.Dense(\n",
    "        units=1,\n",
    "        activation=\"linear\"\n",
    "    )\n",
    ")\n",
    "\n",
    "model_wrapper = lm.ModelWrapper(model)\n",
    "model_wrapper.build(input_shape=(1, len(X[0])))\n",
    "model_wrapper.load_weights(\n",
    "    sorted(glob.glob(os.path.join(workdir, \"ckpt\", \"*.h5\")))[-1]\n",
    ")"
   ]
  },
  {
   "cell_type": "code",
   "execution_count": 9,
   "metadata": {},
   "outputs": [],
   "source": [
    "V_pred = inverse_scale(model_wrapper(X).numpy(), V_min, V_max)"
   ]
  },
  {
   "cell_type": "code",
   "execution_count": 10,
   "metadata": {},
   "outputs": [],
   "source": [
    "from sklearn.metrics import mean_absolute_error, mean_squared_error\n",
    "import pandas as pd\n",
    "import numpy as np"
   ]
  },
  {
   "cell_type": "code",
   "execution_count": 11,
   "metadata": {},
   "outputs": [
    {
     "name": "stdout",
     "output_type": "stream",
     "text": [
      "max |V_pred - V_true| = 35.45 meV\n"
     ]
    }
   ],
   "source": [
    "max_abs_error = np.abs(V_pred - V).max()\n",
    "print(f\"max |V_pred - V_true| = {max_abs_error * 1.0e+03:.2f} meV\")"
   ]
  },
  {
   "cell_type": "code",
   "execution_count": 13,
   "metadata": {},
   "outputs": [
    {
     "data": {
      "text/html": [
       "<div>\n",
       "<style scoped>\n",
       "    .dataframe tbody tr th:only-of-type {\n",
       "        vertical-align: middle;\n",
       "    }\n",
       "\n",
       "    .dataframe tbody tr th {\n",
       "        vertical-align: top;\n",
       "    }\n",
       "\n",
       "    .dataframe thead th {\n",
       "        text-align: right;\n",
       "    }\n",
       "</style>\n",
       "<table border=\"1\" class=\"dataframe\">\n",
       "  <thead>\n",
       "    <tr style=\"text-align: right;\">\n",
       "      <th></th>\n",
       "      <th>Dataset</th>\n",
       "      <th>MAE</th>\n",
       "      <th>MSE</th>\n",
       "      <th>RMSE</th>\n",
       "    </tr>\n",
       "  </thead>\n",
       "  <tbody>\n",
       "    <tr>\n",
       "      <th>0</th>\n",
       "      <td>train</td>\n",
       "      <td>0.334669</td>\n",
       "      <td>0.702244</td>\n",
       "      <td>0.838000</td>\n",
       "    </tr>\n",
       "    <tr>\n",
       "      <th>1</th>\n",
       "      <td>valid</td>\n",
       "      <td>0.371475</td>\n",
       "      <td>1.407019</td>\n",
       "      <td>1.186179</td>\n",
       "    </tr>\n",
       "    <tr>\n",
       "      <th>2</th>\n",
       "      <td>test</td>\n",
       "      <td>0.339287</td>\n",
       "      <td>0.829761</td>\n",
       "      <td>0.910912</td>\n",
       "    </tr>\n",
       "    <tr>\n",
       "      <th>3</th>\n",
       "      <td>total</td>\n",
       "      <td>0.336740</td>\n",
       "      <td>0.336740</td>\n",
       "      <td>0.862469</td>\n",
       "    </tr>\n",
       "  </tbody>\n",
       "</table>\n",
       "</div>"
      ],
      "text/plain": [
       "  Dataset       MAE       MSE      RMSE\n",
       "0   train  0.334669  0.702244  0.838000\n",
       "1   valid  0.371475  1.407019  1.186179\n",
       "2    test  0.339287  0.829761  0.910912\n",
       "3   total  0.336740  0.336740  0.862469"
      ]
     },
     "execution_count": 13,
     "metadata": {},
     "output_type": "execute_result"
    }
   ],
   "source": [
    "df_error = pd.DataFrame({\n",
    "    \"Dataset\": [\"train\", \"valid\", \"test\", \"total\"],\n",
    "    \"MAE\": [\n",
    "        mean_absolute_error(V[train_idx] * 1.0e+03, V_pred[train_idx] * 1.0e+03),\n",
    "        mean_absolute_error(V[valid_idx] * 1.0e+03, V_pred[valid_idx] * 1.0e+03),\n",
    "        mean_absolute_error(V[test_idx] * 1.0e+03, V_pred[test_idx] * 1.0e+03),\n",
    "        mean_absolute_error(V * 1.0e+03, V_pred * 1.0e+03),\n",
    "    ],\n",
    "    \"MSE\": [\n",
    "        mean_squared_error(V[train_idx] * 1.0e+03, V_pred[train_idx] * 1.0e+03),\n",
    "        mean_squared_error(V[valid_idx] * 1.0e+03, V_pred[valid_idx] * 1.0e+03),\n",
    "        mean_squared_error(V[test_idx] * 1.0e+03, V_pred[test_idx] * 1.0e+03),\n",
    "        mean_absolute_error(V * 1.0e+03, V_pred * 1.0e+03),\n",
    "    ],\n",
    "    \"RMSE\": [\n",
    "        np.sqrt(mean_squared_error(V[train_idx] * 1.0e+03, V_pred[train_idx] * 1.0e+03)),\n",
    "        np.sqrt(mean_squared_error(V[valid_idx] * 1.0e+03, V_pred[valid_idx] * 1.0e+03)),\n",
    "        np.sqrt(mean_squared_error(V[test_idx] * 1.0e+03, V_pred[test_idx] * 1.0e+03)),\n",
    "        np.sqrt(mean_squared_error(V * 1.0e+03, V_pred * 1.0e+03)),\n",
    "    ],\n",
    "})\n",
    "\n",
    "df_error"
   ]
  },
  {
   "cell_type": "code",
   "execution_count": 14,
   "metadata": {},
   "outputs": [],
   "source": [
    "import scienceplots\n",
    "from matplotlib import pyplot as plt"
   ]
  },
  {
   "cell_type": "code",
   "execution_count": 15,
   "metadata": {},
   "outputs": [
    {
     "data": {
      "image/png": "[encoded data removed]",
      "text/plain": [
       "<Figure size 525x393.75 with 1 Axes>"
      ]
     },
     "metadata": {},
     "output_type": "display_data"
    }
   ],
   "source": [
    "%matplotlib inline\n",
    "import scienceplots\n",
    "from matplotlib import pyplot as plt\n",
    "\n",
    "with plt.style.context([\"science\", \"no-latex\"]):\n",
    "    fig = plt.figure(dpi=150)\n",
    "    ax = fig.add_subplot(111)\n",
    "\n",
    "    ax.scatter(V, (V_pred - V) * 1e3, s=0.2, c=\"b\", label=\"Fitting error\")\n",
    "    ax.set_xlabel(r\"$\\mathrm{Ab \\ Initio \\ Energy \\; / \\; eV}$\")\n",
    "\n",
    "    ax.set_ylabel(r\"$\\mathrm{Error \\; / \\; meV}$\")\n",
    "    ax.set_xlim([0, 6.5])\n",
    "    ax.set_ylim([-100, 100])\n",
    "    plt.legend()"
   ]
  },
  {
   "cell_type": "code",
   "execution_count": null,
   "metadata": {},
   "outputs": [],
   "source": []
  }
 ],
 "metadata": {
  "kernelspec": {
   "display_name": "cqpes-env",
   "language": "python",
   "name": "python3"
  },
  "language_info": {
   "codemirror_mode": {
    "name": "ipython",
    "version": 3
   },
   "file_extension": ".py",
   "mimetype": "text/x-python",
   "name": "python",
   "nbconvert_exporter": "python",
   "pygments_lexer": "ipython3",
   "version": "3.8.18"
  }
 },
 "nbformat": 4,
 "nbformat_minor": 2
}
